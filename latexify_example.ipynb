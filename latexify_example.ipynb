{
  "nbformat": 4,
  "nbformat_minor": 0,
  "metadata": {
    "colab": {
      "name": "latexify_example.ipynb",
      "provenance": [],
      "include_colab_link": true
    },
    "kernelspec": {
      "name": "python3",
      "display_name": "Python 3"
    }
  },
  "cells": [
    {
      "cell_type": "markdown",
      "metadata": {
        "id": "view-in-github",
        "colab_type": "text"
      },
      "source": [
        "<a href=\"https://colab.research.google.com/github/RickyMacharm/Sentinel_v3.0/blob/master/latexify_example.ipynb\" target=\"_parent\"><img src=\"https://colab.research.google.com/assets/colab-badge.svg\" alt=\"Open In Colab\"/></a>"
      ]
    },
    {
      "cell_type": "code",
      "metadata": {
        "id": "4IPGyu2dFH6T",
        "colab_type": "code",
        "colab": {
          "base_uri": "https://localhost:8080/",
          "height": 119
        },
        "outputId": "c021c968-846f-440c-caa4-bbf00b0d97e6"
      },
      "source": [
        "!pip uninstall -y latexify-py\n",
        "!pip install latexify-py"
      ],
      "execution_count": 3,
      "outputs": [
        {
          "output_type": "stream",
          "text": [
            "\u001b[33mWARNING: Skipping latexify-py as it is not installed.\u001b[0m\n",
            "Collecting latexify-py\n",
            "  Downloading https://files.pythonhosted.org/packages/dc/66/442aa0b59e638906ff1fad4f3349375d808758682f401828f9e1feb6d871/latexify_py-0.0.5-py3-none-any.whl\n",
            "Requirement already satisfied: dill>=0.3.2 in /usr/local/lib/python3.6/dist-packages (from latexify-py) (0.3.2)\n",
            "Installing collected packages: latexify-py\n",
            "Successfully installed latexify-py-0.0.5\n"
          ],
          "name": "stdout"
        }
      ]
    },
    {
      "cell_type": "code",
      "metadata": {
        "id": "hViDMhyMFNCO",
        "colab_type": "code",
        "colab": {}
      },
      "source": [
        "# Before running following cells, restart the runtime so that the installed\n",
        "# module is activated.\n",
        "import math\n",
        "import latexify"
      ],
      "execution_count": 4,
      "outputs": []
    },
    {
      "cell_type": "code",
      "metadata": {
        "id": "NvbEYSwXFaeE",
        "colab_type": "code",
        "colab": {
          "base_uri": "https://localhost:8080/",
          "height": 92
        },
        "outputId": "2f3a1a07-b852-49a9-f873-b23200e4bdbd"
      },
      "source": [
        "@latexify.with_latex\n",
        "def solve(a, b, c):\n",
        "  return (-b + math.sqrt(b**2 - 4*a*c)) / (2*a)\n",
        "\n",
        "print(solve(1, 4, 3))\n",
        "print(solve)\n",
        "print()\n",
        "solve"
      ],
      "execution_count": 5,
      "outputs": [
        {
          "output_type": "stream",
          "text": [
            "-1.0\n",
            "\\operatorname{solve}(a, b, c) \\triangleq \\frac{-b + \\sqrt{b^{2} - 4ac}}{2a}\n",
            "\n"
          ],
          "name": "stdout"
        },
        {
          "output_type": "execute_result",
          "data": {
            "text/latex": "\\operatorname{solve}(a, b, c) \\triangleq \\frac{-b + \\sqrt{b^{2} - 4ac}}{2a}",
            "text/plain": [
              "<latexify.core.with_latex.<locals>._LatexifiedFunction at 0x7f2ed5079d68>"
            ]
          },
          "metadata": {
            "tags": []
          },
          "execution_count": 5
        }
      ]
    },
    {
      "cell_type": "code",
      "metadata": {
        "id": "8bYSWIngGF8E",
        "colab_type": "code",
        "colab": {
          "base_uri": "https://localhost:8080/",
          "height": 61
        },
        "outputId": "e6cc799d-dd67-4edb-f2b6-709dba83c30c"
      },
      "source": [
        "@latexify.with_latex\n",
        "def sinc(x):\n",
        "  if x == 0:\n",
        "    return 1\n",
        "  else:\n",
        "    return math.sin(x) / x\n",
        "\n",
        "sinc"
      ],
      "execution_count": 6,
      "outputs": [
        {
          "output_type": "execute_result",
          "data": {
            "text/latex": "\\operatorname{sinc}(x) \\triangleq \\left\\{ \\begin{array}{ll} 1, & \\mathrm{if} \\ x=0 \\\\ \\frac{\\sin{\\left({x}\\right)}}{x}, & \\mathrm{otherwise} \\end{array} \\right.",
            "text/plain": [
              "<latexify.core.with_latex.<locals>._LatexifiedFunction at 0x7f2ed50806d8>"
            ]
          },
          "metadata": {
            "tags": []
          },
          "execution_count": 6
        }
      ]
    },
    {
      "cell_type": "code",
      "metadata": {
        "id": "h1i4BjdgHjxl",
        "colab_type": "code",
        "colab": {
          "base_uri": "https://localhost:8080/",
          "height": 78
        },
        "outputId": "5584ae35-7639-4b88-ad61-68411a99ad34"
      },
      "source": [
        "# Elif or nested else-if are unrolled.\n",
        "@latexify.with_latex\n",
        "def fib(x):\n",
        "  if x == 0:\n",
        "    return 1\n",
        "  elif x == 1:\n",
        "    return 1\n",
        "  else:\n",
        "    return fib(x-1) + fib(x-2)\n",
        "\n",
        "fib"
      ],
      "execution_count": 7,
      "outputs": [
        {
          "output_type": "execute_result",
          "data": {
            "text/latex": "\\operatorname{fib}(x) \\triangleq \\left\\{ \\begin{array}{ll} 1, & \\mathrm{if} \\ x=0 \\\\ 1, & \\mathrm{if} \\ x=1 \\\\ \\operatorname{fib}\\left(x - 1\\right) + \\operatorname{fib}\\left(x - 2\\right), & \\mathrm{otherwise} \\end{array} \\right.",
            "text/plain": [
              "<latexify.core.with_latex.<locals>._LatexifiedFunction at 0x7f2ed5dfa860>"
            ]
          },
          "metadata": {
            "tags": []
          },
          "execution_count": 7
        }
      ]
    },
    {
      "cell_type": "code",
      "metadata": {
        "id": "-JhJMAXM7j-X",
        "colab_type": "code",
        "colab": {
          "base_uri": "https://localhost:8080/",
          "height": 39
        },
        "outputId": "3c9802b0-acbf-4ccb-ee11-8f41ab88ebe3"
      },
      "source": [
        "# Some math symbols are converted automatically.\n",
        "@latexify.with_latex\n",
        "def greek(alpha, beta, gamma, Omega):\n",
        "  return alpha * beta + math.gamma(gamma) + Omega\n",
        "\n",
        "greek"
      ],
      "execution_count": 8,
      "outputs": [
        {
          "output_type": "execute_result",
          "data": {
            "text/latex": "\\operatorname{greek}({\\alpha}, {\\beta}, {\\gamma}, {\\Omega}) \\triangleq {\\alpha}{\\beta} + \\Gamma\\left({{\\gamma}}\\right) + {\\Omega}",
            "text/plain": [
              "<latexify.core.with_latex.<locals>._LatexifiedFunction at 0x7f2ed551d128>"
            ]
          },
          "metadata": {
            "tags": []
          },
          "execution_count": 8
        }
      ]
    },
    {
      "cell_type": "code",
      "metadata": {
        "id": "sqgeEYW76wu2",
        "colab_type": "code",
        "colab": {}
      },
      "source": [
        ""
      ],
      "execution_count": null,
      "outputs": []
    }
  ]
}