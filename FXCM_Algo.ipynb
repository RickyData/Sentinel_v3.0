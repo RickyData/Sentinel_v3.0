{
  "nbformat": 4,
  "nbformat_minor": 0,
  "metadata": {
    "colab": {
      "name": "FXCM_Algo.ipynb",
      "provenance": [],
      "collapsed_sections": [],
      "include_colab_link": true
    },
    "kernelspec": {
      "name": "python3",
      "display_name": "Python 3"
    }
  },
  "cells": [
    {
      "cell_type": "markdown",
      "metadata": {
        "id": "view-in-github",
        "colab_type": "text"
      },
      "source": [
        "<a href=\"https://colab.research.google.com/github/RickyMacharm/Sentinel_v3.0/blob/master/FXCM_Algo.ipynb\" target=\"_parent\"><img src=\"https://colab.research.google.com/assets/colab-badge.svg\" alt=\"Open In Colab\"/></a>"
      ]
    },
    {
      "cell_type": "markdown",
      "metadata": {
        "id": "OTBiiObspYJm",
        "colab_type": "text"
      },
      "source": [
        "###First Time Run\n",
        "Run his cell only if you are running this notebook for the very first time on colab or on a new `Google` account. If the cell is commented, Higlight the contents and use a combination of `'ctrl'` plus `'/'` keys to uncomment the cell.\n",
        "\n",
        "Click on the url given:( `Go to this URL in a browser: https://accounts.google.com/o/oauth2/XXXXX.....`) after you run the cell and choose the `Google` account you intend to use for running colab and get the authorization code generated."
      ]
    },
    {
      "cell_type": "code",
      "metadata": {
        "id": "1zhIY8_OvSfA",
        "colab_type": "code",
        "outputId": "5729afe1-d193-4038-886d-3a933b5ae0ab",
        "colab": {
          "base_uri": "https://localhost:8080/",
          "height": 125
        }
      },
      "source": [
        "# from fastai import *\n",
        "# from fastai.tabular import *\n",
        "# from google.colab import drive\n",
        "# drive.mount('/content/gdrive', force_remount=True)\n",
        "# root_dir = \"/content/gdrive/My Drive/\"\n",
        "# base_dir = root_dir + 'FXCM_Algo/'\n",
        "\n",
        "# path = Path(base_dir)\n",
        "\n",
        "# path.mkdir(parents=True, exist_ok=True)\n",
        "\n",
        "\n",
        "# import os\n",
        "# os.chdir(path)"
      ],
      "execution_count": 0,
      "outputs": [
        {
          "output_type": "stream",
          "text": [
            "Go to this URL in a browser: https://accounts.google.com/o/oauth2/auth?client_id=947318989803-6bn6qk8qdgf4n4g3pfee6491hc0brc4i.apps.googleusercontent.com&redirect_uri=urn%3Aietf%3Awg%3Aoauth%3A2.0%3Aoob&scope=email%20https%3A%2F%2Fwww.googleapis.com%2Fauth%2Fdocs.test%20https%3A%2F%2Fwww.googleapis.com%2Fauth%2Fdrive%20https%3A%2F%2Fwww.googleapis.com%2Fauth%2Fdrive.photos.readonly%20https%3A%2F%2Fwww.googleapis.com%2Fauth%2Fpeopleapi.readonly&response_type=code\n",
            "\n",
            "Enter your authorization code:\n",
            "··········\n",
            "Mounted at /content/gdrive\n"
          ],
          "name": "stdout"
        }
      ]
    },
    {
      "cell_type": "markdown",
      "metadata": {
        "id": "A7vIIhnBqICx",
        "colab_type": "text"
      },
      "source": [
        "### Next Time Run\n",
        "If you have ran this notebook on colab on the same Google account before now and all the folders have been created, you can run this cell after the first runtime has expired. Colab as of 2019 only allows `12` hours of free runtime before resetting.\n",
        "\n",
        "If the cell is commented, Higlight the contents and use a combination of `'ctrl'` plus `'/'` keys to uncomment the cell.\n",
        "\n",
        "Click on the url given:( `Go to this URL in a browser: https://accounts.google.com/o/oauth2/XXXXX.....`) after you run the cell and choose the `Google` account you intend to use for running colab and get the authorization code generated."
      ]
    },
    {
      "cell_type": "code",
      "metadata": {
        "id": "CCHiTT-hzdER",
        "colab_type": "code",
        "colab": {}
      },
      "source": [
        "# from google.colab import drive\n",
        "# drive.mount('/content/drive')\n",
        "\n",
        "# from fastai.basics import *\n",
        "# path = Path('/content/drive/My Drive/FXCM_Algo')\n",
        "\n",
        "# #we want to change the present working directory to that of path assigned above.\n",
        "# import os\n",
        "# os.chdir(path)"
      ],
      "execution_count": 0,
      "outputs": []
    },
    {
      "cell_type": "markdown",
      "metadata": {
        "id": "QdOSgW80P9sI",
        "colab_type": "text"
      },
      "source": [
        "### FXCM\n",
        "We are going to install and import the FXCM dependencies"
      ]
    },
    {
      "cell_type": "code",
      "metadata": {
        "id": "B_PxDuEoj6Y2",
        "colab_type": "code",
        "outputId": "66a396e8-8b4b-4195-aec1-1818a1bf0b29",
        "colab": {
          "base_uri": "https://localhost:8080/",
          "height": 604
        }
      },
      "source": [
        "!pip install fxcmpy\n",
        "\n",
        "import fxcmpy"
      ],
      "execution_count": 0,
      "outputs": [
        {
          "output_type": "stream",
          "text": [
            "Collecting fxcmpy\n",
            "  Downloading https://files.pythonhosted.org/packages/dd/c6/0126e170fc6c46c9ee22afb457bb9dcce4f3c2dbf05887ea55ee46451b76/fxcmpy-1.2.5-py3-none-any.whl\n",
            "Collecting socketIO-client\n",
            "  Downloading https://files.pythonhosted.org/packages/12/d4/abeb2596c2f16276c66910362b27d04b8d2cf12a746dcccf1d00de3f691b/socketIO-client-0.7.2.tar.gz\n",
            "Collecting configparser\n",
            "  Downloading https://files.pythonhosted.org/packages/7a/2a/95ed0501cf5d8709490b1d3a3f9b5cf340da6c433f896bbe9ce08dbe6785/configparser-4.0.2-py2.py3-none-any.whl\n",
            "Requirement already satisfied: pandas in /usr/local/lib/python3.6/dist-packages (from fxcmpy) (0.25.3)\n",
            "Requirement already satisfied: requests[socks] in /usr/local/lib/python3.6/dist-packages (from fxcmpy) (2.21.0)\n",
            "Requirement already satisfied: six in /usr/local/lib/python3.6/dist-packages (from socketIO-client->fxcmpy) (1.12.0)\n",
            "Collecting websocket-client\n",
            "\u001b[?25l  Downloading https://files.pythonhosted.org/packages/29/19/44753eab1fdb50770ac69605527e8859468f3c0fd7dc5a76dd9c4dbd7906/websocket_client-0.56.0-py2.py3-none-any.whl (200kB)\n",
            "\u001b[K     |████████████████████████████████| 204kB 7.8MB/s \n",
            "\u001b[?25hRequirement already satisfied: numpy>=1.13.3 in /usr/local/lib/python3.6/dist-packages (from pandas->fxcmpy) (1.17.3)\n",
            "Requirement already satisfied: pytz>=2017.2 in /usr/local/lib/python3.6/dist-packages (from pandas->fxcmpy) (2018.9)\n",
            "Requirement already satisfied: python-dateutil>=2.6.1 in /usr/local/lib/python3.6/dist-packages (from pandas->fxcmpy) (2.6.1)\n",
            "Requirement already satisfied: chardet<3.1.0,>=3.0.2 in /usr/local/lib/python3.6/dist-packages (from requests[socks]->fxcmpy) (3.0.4)\n",
            "Requirement already satisfied: idna<2.9,>=2.5 in /usr/local/lib/python3.6/dist-packages (from requests[socks]->fxcmpy) (2.8)\n",
            "Requirement already satisfied: urllib3<1.25,>=1.21.1 in /usr/local/lib/python3.6/dist-packages (from requests[socks]->fxcmpy) (1.24.3)\n",
            "Requirement already satisfied: certifi>=2017.4.17 in /usr/local/lib/python3.6/dist-packages (from requests[socks]->fxcmpy) (2019.9.11)\n",
            "Requirement already satisfied: PySocks!=1.5.7,>=1.5.6; extra == \"socks\" in /usr/local/lib/python3.6/dist-packages (from requests[socks]->fxcmpy) (1.7.1)\n",
            "Building wheels for collected packages: socketIO-client\n",
            "  Building wheel for socketIO-client (setup.py) ... \u001b[?25l\u001b[?25hdone\n",
            "  Created wheel for socketIO-client: filename=socketIO_client-0.7.2-cp36-none-any.whl size=23707 sha256=fc09ea409d8db6d473a4ccd9ce601c41851218bd4d7bb57754d3bc332a5c695d\n",
            "  Stored in directory: /root/.cache/pip/wheels/bd/5d/9f/ebc0c223ec59641877c817eb10442627e69af88c126f1f53a8\n",
            "Successfully built socketIO-client\n",
            "Installing collected packages: websocket-client, socketIO-client, configparser, fxcmpy\n",
            "Successfully installed configparser-4.0.2 fxcmpy-1.2.5 socketIO-client-0.7.2 websocket-client-0.56.0\n"
          ],
          "name": "stdout"
        },
        {
          "output_type": "display_data",
          "data": {
            "application/vnd.colab-display-data+json": {
              "pip_warning": {
                "packages": [
                  "configparser"
                ]
              }
            }
          },
          "metadata": {
            "tags": []
          }
        }
      ]
    },
    {
      "cell_type": "markdown",
      "metadata": {
        "id": "94wBnucVQZV7",
        "colab_type": "text"
      },
      "source": [
        "At this point you must have gone to [fxcm.com](https://www.fxcm.com/za/forex-trading-demo/) website and have already opened a demo account. You can therefore use the API Token you generated to connect to that account.\n",
        "\n",
        "This [documentation](https://www.fxcm.com/fxcmpy/04_data_tables.html) has the details you need."
      ]
    },
    {
      "cell_type": "code",
      "metadata": {
        "id": "QOsyWlkovGlA",
        "colab_type": "code",
        "colab": {}
      },
      "source": [
        "# Pesky warnings averted!\n",
        "import warnings\n",
        "warnings.filterwarnings('ignore')"
      ],
      "execution_count": 0,
      "outputs": []
    },
    {
      "cell_type": "markdown",
      "metadata": {
        "id": "WFXqg8I2sfAA",
        "colab_type": "text"
      },
      "source": [
        "I am going to use the `path.ls()` method from `fastai` to see the contents of the created folder and also the path."
      ]
    },
    {
      "cell_type": "code",
      "metadata": {
        "id": "BL5a-z_nzvqR",
        "colab_type": "code",
        "outputId": "7efacce9-0fff-4f98-966a-21ae644a11ba",
        "colab": {
          "base_uri": "https://localhost:8080/",
          "height": 34
        }
      },
      "source": [
        "path.ls()"
      ],
      "execution_count": 0,
      "outputs": [
        {
          "output_type": "execute_result",
          "data": {
            "text/plain": [
              "[PosixPath('/content/gdrive/My Drive/FXCM_Algo/fxcm.cfg')]"
            ]
          },
          "metadata": {
            "tags": []
          },
          "execution_count": 3
        }
      ]
    },
    {
      "cell_type": "markdown",
      "metadata": {
        "id": "8uJ8eF6rs0KY",
        "colab_type": "text"
      },
      "source": [
        "The bash command `!ls` only shows the contents of the present working directory."
      ]
    },
    {
      "cell_type": "code",
      "metadata": {
        "id": "lnvTaIo3s_3q",
        "colab_type": "code",
        "outputId": "0ccde6be-f646-48c9-ae87-c9278b4cb8bd",
        "colab": {
          "base_uri": "https://localhost:8080/",
          "height": 34
        }
      },
      "source": [
        "!ls"
      ],
      "execution_count": 0,
      "outputs": [
        {
          "output_type": "stream",
          "text": [
            "'^DJI.csv'   fxcm.cfg   fxcm.log\n"
          ],
          "name": "stdout"
        }
      ]
    },
    {
      "cell_type": "markdown",
      "metadata": {
        "id": "E9UrQsU7aMbV",
        "colab_type": "text"
      },
      "source": [
        "Our file is in the created folder. We now go ahead to connect to our FXCM account.\n",
        "\n",
        "We create a variable called `api` for that purpose. You can choose any variable name you prefer."
      ]
    },
    {
      "cell_type": "code",
      "metadata": {
        "id": "vv8PjIuq8MwC",
        "colab_type": "code",
        "colab": {}
      },
      "source": [
        "api = fxcmpy.fxcmpy(config_file='fxcm.cfg')"
      ],
      "execution_count": 0,
      "outputs": []
    },
    {
      "cell_type": "markdown",
      "metadata": {
        "id": "r3Er5_z9bEqh",
        "colab_type": "text"
      },
      "source": [
        "We now look to see the instruments available to use from FXCM for our anlysis."
      ]
    },
    {
      "cell_type": "code",
      "metadata": {
        "id": "Ue6cNxqAKXVd",
        "colab_type": "code",
        "outputId": "383a6d52-eccd-469a-b199-d9c99219d567",
        "colab": {
          "base_uri": "https://localhost:8080/",
          "height": 72
        }
      },
      "source": [
        "instruments = api.get_instruments()\n",
        "print(instruments)\n",
        "len(instruments)"
      ],
      "execution_count": 0,
      "outputs": [
        {
          "output_type": "stream",
          "text": [
            "['EUR/USD', 'USD/JPY', 'GBP/USD', 'USD/CHF', 'EUR/CHF', 'AUD/USD', 'USD/CAD', 'NZD/USD', 'EUR/GBP', 'EUR/JPY', 'GBP/JPY', 'CHF/JPY', 'GBP/CHF', 'EUR/AUD', 'EUR/CAD', 'AUD/CAD', 'AUD/JPY', 'CAD/JPY', 'NZD/JPY', 'GBP/CAD', 'GBP/NZD', 'GBP/AUD', 'AUD/NZD', 'USD/SEK', 'EUR/SEK', 'EUR/NOK', 'USD/NOK', 'USD/MXN', 'AUD/CHF', 'EUR/NZD', 'USD/ZAR', 'USD/HKD', 'ZAR/JPY', 'USD/TRY', 'EUR/TRY', 'NZD/CHF', 'CAD/CHF', 'NZD/CAD', 'TRY/JPY', 'USD/CNH', 'AUS200', 'ESP35', 'FRA40', 'GER30', 'HKG33', 'JPN225', 'NAS100', 'SPX500', 'UK100', 'US30', 'Copper', 'CHN50', 'EUSTX50', 'USDOLLAR', 'US2000', 'USOil', 'UKOil', 'SOYF', 'NGAS', 'WHEATF', 'CORNF', 'Bund', 'XAU/USD', 'XAG/USD', 'EMBasket', 'JPYBasket', 'BTC/USD', 'BCH/USD', 'ETH/USD', 'LTC/USD', 'XRP/USD', 'CryptoMajor', 'USEquities']\n"
          ],
          "name": "stdout"
        },
        {
          "output_type": "execute_result",
          "data": {
            "text/plain": [
              "73"
            ]
          },
          "metadata": {
            "tags": []
          },
          "execution_count": 7
        }
      ]
    },
    {
      "cell_type": "markdown",
      "metadata": {
        "id": "IRc9vSMGbdCx",
        "colab_type": "text"
      },
      "source": [
        "We can see that we have about 73 instruments (it used to be 62 last I checked).\n",
        "We can now choose any for our purpose."
      ]
    },
    {
      "cell_type": "markdown",
      "metadata": {
        "id": "1m8I2GvEbvGP",
        "colab_type": "text"
      },
      "source": [
        "### Historical Data\n",
        "\n",
        "We will retrieve the historical data of the instrument of our choice.\n",
        "\n",
        "The parameter `period` must be one of `m1`, `m5`, `m15`, `m30`, `H1`, `H2`, `H3`, `H4`, `H6`, `H8`, `D1`, `W1`, `M1`"
      ]
    },
    {
      "cell_type": "code",
      "metadata": {
        "id": "UYqNn3oVzKiw",
        "colab_type": "code",
        "colab": {}
      },
      "source": [
        "import datetime as dt\n",
        "\n",
        "start = dt.datetime(2017, 1, 1); end = dt.datetime(2002, 1, 1)"
      ],
      "execution_count": 0,
      "outputs": []
    },
    {
      "cell_type": "code",
      "metadata": {
        "id": "kcaw0skcbVTu",
        "colab_type": "code",
        "colab": {}
      },
      "source": [
        "#candles = api.get_candles('US30', period='D1', start=start, stop=end)\n",
        "\n",
        "candles = api.get_candles('US30', period='D1', number=6000)"
      ],
      "execution_count": 0,
      "outputs": []
    },
    {
      "cell_type": "code",
      "metadata": {
        "id": "ByEn0nQyc86D",
        "colab_type": "code",
        "outputId": "75945825-9ef3-48f2-a44f-67afe21a90cc",
        "colab": {
          "base_uri": "https://localhost:8080/",
          "height": 34
        }
      },
      "source": [
        "len(candles)"
      ],
      "execution_count": 0,
      "outputs": [
        {
          "output_type": "execute_result",
          "data": {
            "text/plain": [
              "4697"
            ]
          },
          "metadata": {
            "tags": []
          },
          "execution_count": 37
        }
      ]
    },
    {
      "cell_type": "code",
      "metadata": {
        "id": "nkbYTm4mc-y5",
        "colab_type": "code",
        "outputId": "3a704a5c-1355-4885-9308-e56708ae4ef1",
        "colab": {
          "base_uri": "https://localhost:8080/",
          "height": 414
        }
      },
      "source": [
        "candles.tail()"
      ],
      "execution_count": 0,
      "outputs": [
        {
          "output_type": "execute_result",
          "data": {
            "text/html": [
              "<div>\n",
              "<style scoped>\n",
              "    .dataframe tbody tr th:only-of-type {\n",
              "        vertical-align: middle;\n",
              "    }\n",
              "\n",
              "    .dataframe tbody tr th {\n",
              "        vertical-align: top;\n",
              "    }\n",
              "\n",
              "    .dataframe thead th {\n",
              "        text-align: right;\n",
              "    }\n",
              "</style>\n",
              "<table border=\"1\" class=\"dataframe\">\n",
              "  <thead>\n",
              "    <tr style=\"text-align: right;\">\n",
              "      <th></th>\n",
              "      <th>bidopen</th>\n",
              "      <th>bidclose</th>\n",
              "      <th>bidhigh</th>\n",
              "      <th>bidlow</th>\n",
              "      <th>askopen</th>\n",
              "      <th>askclose</th>\n",
              "      <th>askhigh</th>\n",
              "      <th>asklow</th>\n",
              "      <th>tickqty</th>\n",
              "    </tr>\n",
              "    <tr>\n",
              "      <th>date</th>\n",
              "      <th></th>\n",
              "      <th></th>\n",
              "      <th></th>\n",
              "      <th></th>\n",
              "      <th></th>\n",
              "      <th></th>\n",
              "      <th></th>\n",
              "      <th></th>\n",
              "      <th></th>\n",
              "    </tr>\n",
              "  </thead>\n",
              "  <tbody>\n",
              "    <tr>\n",
              "      <th>2019-11-03 22:00:00</th>\n",
              "      <td>27372.1</td>\n",
              "      <td>27451.6</td>\n",
              "      <td>27508.1</td>\n",
              "      <td>27363.0</td>\n",
              "      <td>27374.0</td>\n",
              "      <td>27453.2</td>\n",
              "      <td>27511.0</td>\n",
              "      <td>27365.3</td>\n",
              "      <td>436552</td>\n",
              "    </tr>\n",
              "    <tr>\n",
              "      <th>2019-11-04 22:00:00</th>\n",
              "      <td>27497.9</td>\n",
              "      <td>27484.8</td>\n",
              "      <td>27559.1</td>\n",
              "      <td>27428.9</td>\n",
              "      <td>27499.1</td>\n",
              "      <td>27487.7</td>\n",
              "      <td>27562.4</td>\n",
              "      <td>27432.4</td>\n",
              "      <td>431734</td>\n",
              "    </tr>\n",
              "    <tr>\n",
              "      <th>2019-11-05 22:00:00</th>\n",
              "      <td>27494.9</td>\n",
              "      <td>27509.9</td>\n",
              "      <td>27532.3</td>\n",
              "      <td>27401.9</td>\n",
              "      <td>27496.2</td>\n",
              "      <td>27512.6</td>\n",
              "      <td>27535.3</td>\n",
              "      <td>27403.3</td>\n",
              "      <td>502711</td>\n",
              "    </tr>\n",
              "    <tr>\n",
              "      <th>2019-11-06 22:00:00</th>\n",
              "      <td>27708.4</td>\n",
              "      <td>27718.7</td>\n",
              "      <td>27773.4</td>\n",
              "      <td>27445.6</td>\n",
              "      <td>27709.9</td>\n",
              "      <td>27722.8</td>\n",
              "      <td>27778.8</td>\n",
              "      <td>27449.8</td>\n",
              "      <td>241419</td>\n",
              "    </tr>\n",
              "    <tr>\n",
              "      <th>2019-11-07 22:00:00</th>\n",
              "      <td>27624.9</td>\n",
              "      <td>27656.2</td>\n",
              "      <td>27718.5</td>\n",
              "      <td>27573.7</td>\n",
              "      <td>27626.1</td>\n",
              "      <td>27658.9</td>\n",
              "      <td>27722.6</td>\n",
              "      <td>27575.1</td>\n",
              "      <td>145787</td>\n",
              "    </tr>\n",
              "  </tbody>\n",
              "</table>\n",
              "</div>"
            ],
            "text/plain": [
              "                     bidopen  bidclose  bidhigh  ...  askhigh   asklow  tickqty\n",
              "date                                             ...                           \n",
              "2019-11-03 22:00:00  27372.1   27451.6  27508.1  ...  27511.0  27365.3   436552\n",
              "2019-11-04 22:00:00  27497.9   27484.8  27559.1  ...  27562.4  27432.4   431734\n",
              "2019-11-05 22:00:00  27494.9   27509.9  27532.3  ...  27535.3  27403.3   502711\n",
              "2019-11-06 22:00:00  27708.4   27718.7  27773.4  ...  27778.8  27449.8   241419\n",
              "2019-11-07 22:00:00  27624.9   27656.2  27718.5  ...  27722.6  27575.1   145787\n",
              "\n",
              "[5 rows x 9 columns]"
            ]
          },
          "metadata": {
            "tags": []
          },
          "execution_count": 38
        }
      ]
    },
    {
      "cell_type": "code",
      "metadata": {
        "id": "C8lm50JldSUr",
        "colab_type": "code",
        "colab": {}
      },
      "source": [
        ""
      ],
      "execution_count": 0,
      "outputs": []
    },
    {
      "cell_type": "markdown",
      "metadata": {
        "id": "DmnPdgMjkLvd",
        "colab_type": "text"
      },
      "source": [
        "### Feature Generation\n",
        "\n",
        "For this section, we will go to `Yahoo!` Finance to download historical data for training since there would be more entries."
      ]
    },
    {
      "cell_type": "code",
      "metadata": {
        "id": "Uklk33euMU1e",
        "colab_type": "code",
        "outputId": "16c0074c-b1c1-453b-9971-2a4227468f75",
        "colab": {
          "base_uri": "https://localhost:8080/",
          "height": 301
        }
      },
      "source": [
        "df = pd.read_csv('^DJI.csv')\n",
        "\n",
        "df.head()"
      ],
      "execution_count": 0,
      "outputs": [
        {
          "output_type": "execute_result",
          "data": {
            "text/html": [
              "<div>\n",
              "<style scoped>\n",
              "    .dataframe tbody tr th:only-of-type {\n",
              "        vertical-align: middle;\n",
              "    }\n",
              "\n",
              "    .dataframe tbody tr th {\n",
              "        vertical-align: top;\n",
              "    }\n",
              "\n",
              "    .dataframe thead th {\n",
              "        text-align: right;\n",
              "    }\n",
              "</style>\n",
              "<table border=\"1\" class=\"dataframe\">\n",
              "  <thead>\n",
              "    <tr style=\"text-align: right;\">\n",
              "      <th></th>\n",
              "      <th>Date</th>\n",
              "      <th>Open</th>\n",
              "      <th>High</th>\n",
              "      <th>Low</th>\n",
              "      <th>Close</th>\n",
              "      <th>Adj Close</th>\n",
              "      <th>Volume</th>\n",
              "    </tr>\n",
              "  </thead>\n",
              "  <tbody>\n",
              "    <tr>\n",
              "      <th>0</th>\n",
              "      <td>1985-01-29</td>\n",
              "      <td>1277.719971</td>\n",
              "      <td>1295.489990</td>\n",
              "      <td>1266.890015</td>\n",
              "      <td>1292.619995</td>\n",
              "      <td>1292.619995</td>\n",
              "      <td>13560000</td>\n",
              "    </tr>\n",
              "    <tr>\n",
              "      <th>1</th>\n",
              "      <td>1985-01-30</td>\n",
              "      <td>1297.369995</td>\n",
              "      <td>1305.099976</td>\n",
              "      <td>1278.930054</td>\n",
              "      <td>1287.880005</td>\n",
              "      <td>1287.880005</td>\n",
              "      <td>16820000</td>\n",
              "    </tr>\n",
              "    <tr>\n",
              "      <th>2</th>\n",
              "      <td>1985-01-31</td>\n",
              "      <td>1283.239990</td>\n",
              "      <td>1293.400024</td>\n",
              "      <td>1272.640015</td>\n",
              "      <td>1286.770020</td>\n",
              "      <td>1286.770020</td>\n",
              "      <td>14070000</td>\n",
              "    </tr>\n",
              "    <tr>\n",
              "      <th>3</th>\n",
              "      <td>1985-02-01</td>\n",
              "      <td>1276.939941</td>\n",
              "      <td>1286.109985</td>\n",
              "      <td>1269.770020</td>\n",
              "      <td>1277.719971</td>\n",
              "      <td>1277.719971</td>\n",
              "      <td>10980000</td>\n",
              "    </tr>\n",
              "    <tr>\n",
              "      <th>4</th>\n",
              "      <td>1985-02-04</td>\n",
              "      <td>1272.079956</td>\n",
              "      <td>1294.939941</td>\n",
              "      <td>1268.989990</td>\n",
              "      <td>1290.079956</td>\n",
              "      <td>1290.079956</td>\n",
              "      <td>11630000</td>\n",
              "    </tr>\n",
              "  </tbody>\n",
              "</table>\n",
              "</div>"
            ],
            "text/plain": [
              "         Date         Open         High  ...        Close    Adj Close    Volume\n",
              "0  1985-01-29  1277.719971  1295.489990  ...  1292.619995  1292.619995  13560000\n",
              "1  1985-01-30  1297.369995  1305.099976  ...  1287.880005  1287.880005  16820000\n",
              "2  1985-01-31  1283.239990  1293.400024  ...  1286.770020  1286.770020  14070000\n",
              "3  1985-02-01  1276.939941  1286.109985  ...  1277.719971  1277.719971  10980000\n",
              "4  1985-02-04  1272.079956  1294.939941  ...  1290.079956  1290.079956  11630000\n",
              "\n",
              "[5 rows x 7 columns]"
            ]
          },
          "metadata": {
            "tags": []
          },
          "execution_count": 39
        }
      ]
    },
    {
      "cell_type": "code",
      "metadata": {
        "id": "2ZqzG-O-Mg3S",
        "colab_type": "code",
        "outputId": "a914f9a3-80ec-4c0e-f2ab-3d52e1b33b1b",
        "colab": {
          "base_uri": "https://localhost:8080/",
          "height": 230
        }
      },
      "source": [
        "df.info()"
      ],
      "execution_count": 0,
      "outputs": [
        {
          "output_type": "stream",
          "text": [
            "<class 'pandas.core.frame.DataFrame'>\n",
            "RangeIndex: 8768 entries, 0 to 8767\n",
            "Data columns (total 7 columns):\n",
            "Date         8768 non-null object\n",
            "Open         8768 non-null float64\n",
            "High         8768 non-null float64\n",
            "Low          8768 non-null float64\n",
            "Close        8768 non-null float64\n",
            "Adj Close    8768 non-null float64\n",
            "Volume       8768 non-null int64\n",
            "dtypes: float64(5), int64(1), object(1)\n",
            "memory usage: 479.6+ KB\n"
          ],
          "name": "stdout"
        }
      ]
    },
    {
      "cell_type": "markdown",
      "metadata": {
        "id": "65jaN1XRMpb-",
        "colab_type": "text"
      },
      "source": [
        "We have more data to train with in this case.\n",
        "\n",
        "#### Fastai\n",
        "we will use the `fastai` module to add some features."
      ]
    },
    {
      "cell_type": "code",
      "metadata": {
        "id": "tj7TzEXSMmT2",
        "colab_type": "code",
        "outputId": "d12c886e-99ea-42ef-f467-f286342a0b1f",
        "colab": {
          "base_uri": "https://localhost:8080/",
          "height": 461
        }
      },
      "source": [
        "add_datepart(df, 'Date', drop=False)\n",
        "\n",
        "df.info()"
      ],
      "execution_count": 0,
      "outputs": [
        {
          "output_type": "stream",
          "text": [
            "<class 'pandas.core.frame.DataFrame'>\n",
            "RangeIndex: 8768 entries, 0 to 8767\n",
            "Data columns (total 20 columns):\n",
            "Date                8768 non-null datetime64[ns]\n",
            "Open                8768 non-null float64\n",
            "High                8768 non-null float64\n",
            "Low                 8768 non-null float64\n",
            "Close               8768 non-null float64\n",
            "Adj Close           8768 non-null float64\n",
            "Volume              8768 non-null int64\n",
            "Year                8768 non-null int64\n",
            "Month               8768 non-null int64\n",
            "Week                8768 non-null int64\n",
            "Day                 8768 non-null int64\n",
            "Dayofweek           8768 non-null int64\n",
            "Dayofyear           8768 non-null int64\n",
            "Is_month_end        8768 non-null bool\n",
            "Is_month_start      8768 non-null bool\n",
            "Is_quarter_end      8768 non-null bool\n",
            "Is_quarter_start    8768 non-null bool\n",
            "Is_year_end         8768 non-null bool\n",
            "Is_year_start       8768 non-null bool\n",
            "Elapsed             8768 non-null int64\n",
            "dtypes: bool(6), datetime64[ns](1), float64(5), int64(8)\n",
            "memory usage: 1010.5 KB\n"
          ],
          "name": "stdout"
        }
      ]
    },
    {
      "cell_type": "markdown",
      "metadata": {
        "id": "YyhqsQnbOaxP",
        "colab_type": "text"
      },
      "source": [
        "Next we are going to add `Returns` column and also lag return columns."
      ]
    },
    {
      "cell_type": "code",
      "metadata": {
        "id": "-_cIm-M4OVh7",
        "colab_type": "code",
        "outputId": "0f9aab3e-9b04-4b74-c7d8-1658b1d9bff9",
        "colab": {
          "base_uri": "https://localhost:8080/",
          "height": 621
        }
      },
      "source": [
        "df['Returns'] = np.log(df.Close/df.Close.shift(1)) \n",
        "\n",
        "lags = 8\n",
        "cols = []\n",
        "for lag in range(1,lags + 1):\n",
        "    col = 'lag_%s' % lag\n",
        "    df[col] = df.Returns.shift(lag)\n",
        "    cols.append(col)\n",
        "\n",
        "df.info()"
      ],
      "execution_count": 0,
      "outputs": [
        {
          "output_type": "stream",
          "text": [
            "<class 'pandas.core.frame.DataFrame'>\n",
            "RangeIndex: 8768 entries, 0 to 8767\n",
            "Data columns (total 29 columns):\n",
            "Date                8768 non-null datetime64[ns]\n",
            "Open                8768 non-null float64\n",
            "High                8768 non-null float64\n",
            "Low                 8768 non-null float64\n",
            "Close               8768 non-null float64\n",
            "Adj Close           8768 non-null float64\n",
            "Volume              8768 non-null int64\n",
            "Year                8768 non-null int64\n",
            "Month               8768 non-null int64\n",
            "Week                8768 non-null int64\n",
            "Day                 8768 non-null int64\n",
            "Dayofweek           8768 non-null int64\n",
            "Dayofyear           8768 non-null int64\n",
            "Is_month_end        8768 non-null bool\n",
            "Is_month_start      8768 non-null bool\n",
            "Is_quarter_end      8768 non-null bool\n",
            "Is_quarter_start    8768 non-null bool\n",
            "Is_year_end         8768 non-null bool\n",
            "Is_year_start       8768 non-null bool\n",
            "Elapsed             8768 non-null int64\n",
            "Returns             8767 non-null float64\n",
            "lag_1               8766 non-null float64\n",
            "lag_2               8765 non-null float64\n",
            "lag_3               8764 non-null float64\n",
            "lag_4               8763 non-null float64\n",
            "lag_5               8762 non-null float64\n",
            "lag_6               8761 non-null float64\n",
            "lag_7               8760 non-null float64\n",
            "lag_8               8759 non-null float64\n",
            "dtypes: bool(6), datetime64[ns](1), float64(14), int64(8)\n",
            "memory usage: 1.6 MB\n"
          ],
          "name": "stdout"
        }
      ]
    },
    {
      "cell_type": "markdown",
      "metadata": {
        "id": "JOP_dxRRPWdn",
        "colab_type": "text"
      },
      "source": [
        "We are going to set the `Date` column as the index from now moving on."
      ]
    },
    {
      "cell_type": "code",
      "metadata": {
        "id": "8YuSIMp-O36j",
        "colab_type": "code",
        "colab": {}
      },
      "source": [
        "df.set_index('Date', inplace=True)"
      ],
      "execution_count": 0,
      "outputs": []
    },
    {
      "cell_type": "code",
      "metadata": {
        "id": "ltbSkuphPl5-",
        "colab_type": "code",
        "colab": {}
      },
      "source": [
        "df['Direction'] = np.where(df.Returns > 0, 1, -1)"
      ],
      "execution_count": 0,
      "outputs": []
    },
    {
      "cell_type": "markdown",
      "metadata": {
        "id": "Z7sl5FThQa3L",
        "colab_type": "text"
      },
      "source": [
        "### Plots\n",
        "\n",
        "Let us make some plots"
      ]
    },
    {
      "cell_type": "code",
      "metadata": {
        "id": "LSPtlIr0QfrA",
        "colab_type": "code",
        "outputId": "eec3afab-2d14-4358-f764-5ce7f372e6d5",
        "colab": {
          "base_uri": "https://localhost:8080/",
          "height": 354
        }
      },
      "source": [
        "from pylab import plt\n",
        "plt.style.use('seaborn')\n",
        "%matplotlib inline\n",
        "\n",
        "df['Close'].plot(figsize=(10, 5), lw=0.8)"
      ],
      "execution_count": 0,
      "outputs": [
        {
          "output_type": "execute_result",
          "data": {
            "text/plain": [
              "<matplotlib.axes._subplots.AxesSubplot at 0x7eff19002160>"
            ]
          },
          "metadata": {
            "tags": []
          },
          "execution_count": 47
        },
        {
          "output_type": "display_data",
          "data": {
            "image/png": "[encoded data removed]",
            "text/plain": [
              "<Figure size 720x360 with 1 Axes>"
            ]
          },
          "metadata": {
            "tags": []
          }
        }
      ]
    },
    {
      "cell_type": "code",
      "metadata": {
        "id": "xTHShnIgQtH-",
        "colab_type": "code",
        "outputId": "16660455-5ca6-4f30-f8fc-8ced4247526b",
        "colab": {
          "base_uri": "https://localhost:8080/",
          "height": 496
        }
      },
      "source": [
        "to_plot = [ 'Close','Returns', 'Direction']\n",
        "df[to_plot].iloc[6400:6500].plot(figsize=(16,6),\n",
        "           subplots=True,  style= ['-', '-', 'ro'],\n",
        "           title='Dow30')"
      ],
      "execution_count": 0,
      "outputs": [
        {
          "output_type": "execute_result",
          "data": {
            "text/plain": [
              "array([<matplotlib.axes._subplots.AxesSubplot object at 0x7eff17cd1e80>,\n",
              "       <matplotlib.axes._subplots.AxesSubplot object at 0x7eff177d7eb8>,\n",
              "       <matplotlib.axes._subplots.AxesSubplot object at 0x7eff177902b0>], dtype=object)"
            ]
          },
          "metadata": {
            "tags": []
          },
          "execution_count": 48
        },
        {
          "output_type": "display_data",
          "data": {
            "image/png": "[encoded data removed]",
            "text/plain": [
              "<Figure size 1152x432 with 3 Axes>"
            ]
          },
          "metadata": {
            "tags": []
          }
        }
      ]
    },
    {
      "cell_type": "markdown",
      "metadata": {
        "id": "za5qNwnIRRNA",
        "colab_type": "text"
      },
      "source": [
        "### Deep Learning\n",
        "\n",
        "Let us see how well we are able to predict the next day's Direction.\n",
        "\n",
        "we will use the `fastai.tabular` framework."
      ]
    },
    {
      "cell_type": "code",
      "metadata": {
        "id": "hFnuzjW2RcrY",
        "colab_type": "code",
        "colab": {}
      },
      "source": [
        "# drop all null values\n",
        "df.dropna(inplace=True)"
      ],
      "execution_count": 0,
      "outputs": []
    },
    {
      "cell_type": "markdown",
      "metadata": {
        "id": "G0T3V7E-R7w0",
        "colab_type": "text"
      },
      "source": [
        "Selection of columns required."
      ]
    },
    {
      "cell_type": "code",
      "metadata": {
        "id": "BirfncfyRjp4",
        "colab_type": "code",
        "colab": {}
      },
      "source": [
        "dep_var = 'Direction'\n",
        "cat_names = ['lag_1', 'lag_2', 'lag_3', 'lag_4', 'lag_5', 'lag_6', 'lag_7', \n",
        "             'lag_8', 'Year', 'Month', 'Week', 'Day', 'Dayofweek', 'Dayofyear',\n",
        "             'Is_month_end', 'Is_month_start', 'Is_quarter_end', 'Is_quarter_start',\n",
        "            'Is_year_end', 'Is_year_start', 'Elapsed']\n",
        "\n",
        "cont_names = []\n",
        "\n",
        "procs = [FillMissing, Categorify, Normalize]"
      ],
      "execution_count": 0,
      "outputs": []
    },
    {
      "cell_type": "code",
      "metadata": {
        "id": "fsXAjvVzSLWh",
        "colab_type": "code",
        "colab": {}
      },
      "source": [
        "test = TabularList.from_df(df.iloc[7392:8759].copy(), path=path, cat_names=cat_names, cont_names=cont_names)"
      ],
      "execution_count": 0,
      "outputs": []
    },
    {
      "cell_type": "code",
      "metadata": {
        "id": "Dsh9TSFbSSpe",
        "colab_type": "code",
        "colab": {}
      },
      "source": [
        "data = (TabularList.from_df(df, path=path, cat_names=cat_names, cont_names=cont_names, procs=procs)\n",
        "                           .split_by_idx(list(range(7392,8759)))\n",
        "                           .label_from_df(cols=dep_var)\n",
        "                           .add_test(test)\n",
        "                           .databunch())"
      ],
      "execution_count": 0,
      "outputs": []
    },
    {
      "cell_type": "code",
      "metadata": {
        "id": "aIsPeEXXSXwz",
        "colab_type": "code",
        "colab": {}
      },
      "source": [
        "learn = tabular_learner(data, layers=[200,100], metrics=accuracy)"
      ],
      "execution_count": 0,
      "outputs": []
    },
    {
      "cell_type": "code",
      "metadata": {
        "id": "QYZtTqJeSbz8",
        "colab_type": "code",
        "outputId": "4ba5cb61-ac95-4e31-bd2f-0bd32322cf24",
        "colab": {
          "base_uri": "https://localhost:8080/",
          "height": 227
        }
      },
      "source": [
        "learn.fit(6, 3e-3)"
      ],
      "execution_count": 0,
      "outputs": [
        {
          "output_type": "display_data",
          "data": {
            "text/html": [
              "<table border=\"1\" class=\"dataframe\">\n",
              "  <thead>\n",
              "    <tr style=\"text-align: left;\">\n",
              "      <th>epoch</th>\n",
              "      <th>train_loss</th>\n",
              "      <th>valid_loss</th>\n",
              "      <th>accuracy</th>\n",
              "      <th>time</th>\n",
              "    </tr>\n",
              "  </thead>\n",
              "  <tbody>\n",
              "    <tr>\n",
              "      <td>0</td>\n",
              "      <td>0.475248</td>\n",
              "      <td>0.715398</td>\n",
              "      <td>0.546452</td>\n",
              "      <td>00:21</td>\n",
              "    </tr>\n",
              "    <tr>\n",
              "      <td>1</td>\n",
              "      <td>0.098178</td>\n",
              "      <td>0.802617</td>\n",
              "      <td>0.544258</td>\n",
              "      <td>00:22</td>\n",
              "    </tr>\n",
              "    <tr>\n",
              "      <td>2</td>\n",
              "      <td>0.016259</td>\n",
              "      <td>1.375966</td>\n",
              "      <td>0.541331</td>\n",
              "      <td>00:21</td>\n",
              "    </tr>\n",
              "    <tr>\n",
              "      <td>3</td>\n",
              "      <td>0.002819</td>\n",
              "      <td>1.471241</td>\n",
              "      <td>0.541331</td>\n",
              "      <td>00:21</td>\n",
              "    </tr>\n",
              "    <tr>\n",
              "      <td>4</td>\n",
              "      <td>0.000407</td>\n",
              "      <td>0.880737</td>\n",
              "      <td>0.542063</td>\n",
              "      <td>00:22</td>\n",
              "    </tr>\n",
              "    <tr>\n",
              "      <td>5</td>\n",
              "      <td>0.000098</td>\n",
              "      <td>0.806445</td>\n",
              "      <td>0.544989</td>\n",
              "      <td>00:22</td>\n",
              "    </tr>\n",
              "  </tbody>\n",
              "</table>"
            ],
            "text/plain": [
              "<IPython.core.display.HTML object>"
            ]
          },
          "metadata": {
            "tags": []
          }
        }
      ]
    },
    {
      "cell_type": "markdown",
      "metadata": {
        "id": "vua_pJOqWHcP",
        "colab_type": "text"
      },
      "source": [
        "I have played around with many parameters, and the best accuracy I could get was that listed above."
      ]
    },
    {
      "cell_type": "code",
      "metadata": {
        "id": "U4wLRrn8SiGN",
        "colab_type": "code",
        "outputId": "3ee2843a-d17d-48ee-fced-c8c43e7b8660",
        "colab": {
          "base_uri": "https://localhost:8080/",
          "height": 176
        }
      },
      "source": [
        "np.digitize(df[cat_names], bins=[0])[:10]"
      ],
      "execution_count": 0,
      "outputs": [
        {
          "output_type": "execute_result",
          "data": {
            "text/plain": [
              "array([[0, 1, 0, 0, ..., 1, 1, 1, 1],\n",
              "       [0, 0, 1, 0, ..., 1, 1, 1, 1],\n",
              "       [1, 0, 0, 1, ..., 1, 1, 1, 1],\n",
              "       [1, 1, 0, 0, ..., 1, 1, 1, 1],\n",
              "       ...,\n",
              "       [0, 0, 0, 1, ..., 1, 1, 1, 1],\n",
              "       [1, 0, 0, 0, ..., 1, 1, 1, 1],\n",
              "       [0, 1, 0, 0, ..., 1, 1, 1, 1],\n",
              "       [0, 0, 1, 0, ..., 1, 1, 1, 1]])"
            ]
          },
          "metadata": {
            "tags": []
          },
          "execution_count": 64
        }
      ]
    },
    {
      "cell_type": "markdown",
      "metadata": {
        "id": "nOn7L9IpZsWR",
        "colab_type": "text"
      },
      "source": [
        "### Machine Learning\n",
        "\n",
        "`Support Vector Machine`"
      ]
    },
    {
      "cell_type": "code",
      "metadata": {
        "id": "IoJ4b9fqZ23k",
        "colab_type": "code",
        "colab": {}
      },
      "source": [
        "from sklearn import svm\n",
        "from sklearn.metrics import accuracy_score\n",
        "from sklearn.model_selection import train_test_split"
      ],
      "execution_count": 0,
      "outputs": []
    },
    {
      "cell_type": "code",
      "metadata": {
        "id": "WnfxCOnMa73m",
        "colab_type": "code",
        "colab": {}
      },
      "source": [
        "data = df.copy()"
      ],
      "execution_count": 0,
      "outputs": []
    },
    {
      "cell_type": "code",
      "metadata": {
        "id": "UUmEeGB4dg2C",
        "colab_type": "code",
        "colab": {}
      },
      "source": [
        "mu = data['Returns'].mean()\n",
        "v = data['Returns'].std()\n",
        "bins = [mu - v, mu, mu + v]\n",
        "\n",
        "train_X, test_X, train_y, test_y = train_test_split(\n",
        "  data[cat_names].apply(lambda x: np.digitize(x, bins=bins)),\n",
        "  np.sign(data['Returns']),\n",
        "  test_size=0.2, random_state=111)"
      ],
      "execution_count": 0,
      "outputs": []
    },
    {
      "cell_type": "code",
      "metadata": {
        "id": "rwxxRnESdzL4",
        "colab_type": "code",
        "colab": {}
      },
      "source": [
        "train_X.sort_index(inplace=True)\n",
        "train_y.sort_index(inplace=True)\n",
        "test_X.sort_index(inplace=True)\n",
        "test_y.sort_index(inplace=True)"
      ],
      "execution_count": 0,
      "outputs": []
    },
    {
      "cell_type": "code",
      "metadata": {
        "id": "EfwsE1XWd5hM",
        "colab_type": "code",
        "outputId": "a132e328-c8cf-4157-a853-e348553a2231",
        "colab": {
          "base_uri": "https://localhost:8080/",
          "height": 331
        }
      },
      "source": [
        "train_X.head()"
      ],
      "execution_count": 0,
      "outputs": [
        {
          "output_type": "execute_result",
          "data": {
            "text/html": [
              "<div>\n",
              "<style scoped>\n",
              "    .dataframe tbody tr th:only-of-type {\n",
              "        vertical-align: middle;\n",
              "    }\n",
              "\n",
              "    .dataframe tbody tr th {\n",
              "        vertical-align: top;\n",
              "    }\n",
              "\n",
              "    .dataframe thead th {\n",
              "        text-align: right;\n",
              "    }\n",
              "</style>\n",
              "<table border=\"1\" class=\"dataframe\">\n",
              "  <thead>\n",
              "    <tr style=\"text-align: right;\">\n",
              "      <th></th>\n",
              "      <th>lag_1</th>\n",
              "      <th>lag_2</th>\n",
              "      <th>lag_3</th>\n",
              "      <th>lag_4</th>\n",
              "      <th>lag_5</th>\n",
              "      <th>lag_6</th>\n",
              "      <th>lag_7</th>\n",
              "      <th>lag_8</th>\n",
              "      <th>Year</th>\n",
              "      <th>Month</th>\n",
              "      <th>Week</th>\n",
              "      <th>Day</th>\n",
              "      <th>Dayofweek</th>\n",
              "      <th>Dayofyear</th>\n",
              "      <th>Is_month_end</th>\n",
              "      <th>Is_month_start</th>\n",
              "      <th>Is_quarter_end</th>\n",
              "      <th>Is_quarter_start</th>\n",
              "      <th>Is_year_end</th>\n",
              "      <th>Is_year_start</th>\n",
              "      <th>Elapsed</th>\n",
              "    </tr>\n",
              "    <tr>\n",
              "      <th>Date</th>\n",
              "      <th></th>\n",
              "      <th></th>\n",
              "      <th></th>\n",
              "      <th></th>\n",
              "      <th></th>\n",
              "      <th></th>\n",
              "      <th></th>\n",
              "      <th></th>\n",
              "      <th></th>\n",
              "      <th></th>\n",
              "      <th></th>\n",
              "      <th></th>\n",
              "      <th></th>\n",
              "      <th></th>\n",
              "      <th></th>\n",
              "      <th></th>\n",
              "      <th></th>\n",
              "      <th></th>\n",
              "      <th></th>\n",
              "      <th></th>\n",
              "      <th></th>\n",
              "    </tr>\n",
              "  </thead>\n",
              "  <tbody>\n",
              "    <tr>\n",
              "      <th>1985-02-11</th>\n",
              "      <td>1</td>\n",
              "      <td>2</td>\n",
              "      <td>1</td>\n",
              "      <td>1</td>\n",
              "      <td>2</td>\n",
              "      <td>1</td>\n",
              "      <td>1</td>\n",
              "      <td>1</td>\n",
              "      <td>3</td>\n",
              "      <td>3</td>\n",
              "      <td>3</td>\n",
              "      <td>3</td>\n",
              "      <td>1</td>\n",
              "      <td>3</td>\n",
              "      <td>1</td>\n",
              "      <td>1</td>\n",
              "      <td>1</td>\n",
              "      <td>1</td>\n",
              "      <td>1</td>\n",
              "      <td>1</td>\n",
              "      <td>3</td>\n",
              "    </tr>\n",
              "    <tr>\n",
              "      <th>1985-02-12</th>\n",
              "      <td>0</td>\n",
              "      <td>1</td>\n",
              "      <td>2</td>\n",
              "      <td>1</td>\n",
              "      <td>1</td>\n",
              "      <td>2</td>\n",
              "      <td>1</td>\n",
              "      <td>1</td>\n",
              "      <td>3</td>\n",
              "      <td>3</td>\n",
              "      <td>3</td>\n",
              "      <td>3</td>\n",
              "      <td>3</td>\n",
              "      <td>3</td>\n",
              "      <td>1</td>\n",
              "      <td>1</td>\n",
              "      <td>1</td>\n",
              "      <td>1</td>\n",
              "      <td>1</td>\n",
              "      <td>1</td>\n",
              "      <td>3</td>\n",
              "    </tr>\n",
              "    <tr>\n",
              "      <th>1985-02-14</th>\n",
              "      <td>3</td>\n",
              "      <td>2</td>\n",
              "      <td>0</td>\n",
              "      <td>1</td>\n",
              "      <td>2</td>\n",
              "      <td>1</td>\n",
              "      <td>1</td>\n",
              "      <td>2</td>\n",
              "      <td>3</td>\n",
              "      <td>3</td>\n",
              "      <td>3</td>\n",
              "      <td>3</td>\n",
              "      <td>3</td>\n",
              "      <td>3</td>\n",
              "      <td>1</td>\n",
              "      <td>1</td>\n",
              "      <td>1</td>\n",
              "      <td>1</td>\n",
              "      <td>1</td>\n",
              "      <td>1</td>\n",
              "      <td>3</td>\n",
              "    </tr>\n",
              "    <tr>\n",
              "      <th>1985-02-20</th>\n",
              "      <td>1</td>\n",
              "      <td>1</td>\n",
              "      <td>1</td>\n",
              "      <td>3</td>\n",
              "      <td>2</td>\n",
              "      <td>0</td>\n",
              "      <td>1</td>\n",
              "      <td>2</td>\n",
              "      <td>3</td>\n",
              "      <td>3</td>\n",
              "      <td>3</td>\n",
              "      <td>3</td>\n",
              "      <td>3</td>\n",
              "      <td>3</td>\n",
              "      <td>1</td>\n",
              "      <td>1</td>\n",
              "      <td>1</td>\n",
              "      <td>1</td>\n",
              "      <td>1</td>\n",
              "      <td>1</td>\n",
              "      <td>3</td>\n",
              "    </tr>\n",
              "    <tr>\n",
              "      <th>1985-02-21</th>\n",
              "      <td>2</td>\n",
              "      <td>1</td>\n",
              "      <td>1</td>\n",
              "      <td>1</td>\n",
              "      <td>3</td>\n",
              "      <td>2</td>\n",
              "      <td>0</td>\n",
              "      <td>1</td>\n",
              "      <td>3</td>\n",
              "      <td>3</td>\n",
              "      <td>3</td>\n",
              "      <td>3</td>\n",
              "      <td>3</td>\n",
              "      <td>3</td>\n",
              "      <td>1</td>\n",
              "      <td>1</td>\n",
              "      <td>1</td>\n",
              "      <td>1</td>\n",
              "      <td>1</td>\n",
              "      <td>1</td>\n",
              "      <td>3</td>\n",
              "    </tr>\n",
              "  </tbody>\n",
              "</table>\n",
              "</div>"
            ],
            "text/plain": [
              "            lag_1  lag_2  lag_3  ...  Is_year_end  Is_year_start  Elapsed\n",
              "Date                             ...                                     \n",
              "1985-02-11      1      2      1  ...            1              1        3\n",
              "1985-02-12      0      1      2  ...            1              1        3\n",
              "1985-02-14      3      2      0  ...            1              1        3\n",
              "1985-02-20      1      1      1  ...            1              1        3\n",
              "1985-02-21      2      1      1  ...            1              1        3\n",
              "\n",
              "[5 rows x 21 columns]"
            ]
          },
          "metadata": {
            "tags": []
          },
          "execution_count": 95
        }
      ]
    },
    {
      "cell_type": "code",
      "metadata": {
        "id": "GUEzo911eAc_",
        "colab_type": "code",
        "outputId": "f06c07a9-3a00-45fb-992b-732b0ec68ef2",
        "colab": {
          "base_uri": "https://localhost:8080/",
          "height": 331
        }
      },
      "source": [
        "test_X.head()"
      ],
      "execution_count": 0,
      "outputs": [
        {
          "output_type": "execute_result",
          "data": {
            "text/html": [
              "<div>\n",
              "<style scoped>\n",
              "    .dataframe tbody tr th:only-of-type {\n",
              "        vertical-align: middle;\n",
              "    }\n",
              "\n",
              "    .dataframe tbody tr th {\n",
              "        vertical-align: top;\n",
              "    }\n",
              "\n",
              "    .dataframe thead th {\n",
              "        text-align: right;\n",
              "    }\n",
              "</style>\n",
              "<table border=\"1\" class=\"dataframe\">\n",
              "  <thead>\n",
              "    <tr style=\"text-align: right;\">\n",
              "      <th></th>\n",
              "      <th>lag_1</th>\n",
              "      <th>lag_2</th>\n",
              "      <th>lag_3</th>\n",
              "      <th>lag_4</th>\n",
              "      <th>lag_5</th>\n",
              "      <th>lag_6</th>\n",
              "      <th>lag_7</th>\n",
              "      <th>lag_8</th>\n",
              "      <th>Year</th>\n",
              "      <th>Month</th>\n",
              "      <th>Week</th>\n",
              "      <th>Day</th>\n",
              "      <th>Dayofweek</th>\n",
              "      <th>Dayofyear</th>\n",
              "      <th>Is_month_end</th>\n",
              "      <th>Is_month_start</th>\n",
              "      <th>Is_quarter_end</th>\n",
              "      <th>Is_quarter_start</th>\n",
              "      <th>Is_year_end</th>\n",
              "      <th>Is_year_start</th>\n",
              "      <th>Elapsed</th>\n",
              "    </tr>\n",
              "    <tr>\n",
              "      <th>Date</th>\n",
              "      <th></th>\n",
              "      <th></th>\n",
              "      <th></th>\n",
              "      <th></th>\n",
              "      <th></th>\n",
              "      <th></th>\n",
              "      <th></th>\n",
              "      <th></th>\n",
              "      <th></th>\n",
              "      <th></th>\n",
              "      <th></th>\n",
              "      <th></th>\n",
              "      <th></th>\n",
              "      <th></th>\n",
              "      <th></th>\n",
              "      <th></th>\n",
              "      <th></th>\n",
              "      <th></th>\n",
              "      <th></th>\n",
              "      <th></th>\n",
              "      <th></th>\n",
              "    </tr>\n",
              "  </thead>\n",
              "  <tbody>\n",
              "    <tr>\n",
              "      <th>1985-02-13</th>\n",
              "      <td>2</td>\n",
              "      <td>0</td>\n",
              "      <td>1</td>\n",
              "      <td>2</td>\n",
              "      <td>1</td>\n",
              "      <td>1</td>\n",
              "      <td>2</td>\n",
              "      <td>1</td>\n",
              "      <td>3</td>\n",
              "      <td>3</td>\n",
              "      <td>3</td>\n",
              "      <td>3</td>\n",
              "      <td>3</td>\n",
              "      <td>3</td>\n",
              "      <td>1</td>\n",
              "      <td>1</td>\n",
              "      <td>1</td>\n",
              "      <td>1</td>\n",
              "      <td>1</td>\n",
              "      <td>1</td>\n",
              "      <td>3</td>\n",
              "    </tr>\n",
              "    <tr>\n",
              "      <th>1985-02-15</th>\n",
              "      <td>1</td>\n",
              "      <td>3</td>\n",
              "      <td>2</td>\n",
              "      <td>0</td>\n",
              "      <td>1</td>\n",
              "      <td>2</td>\n",
              "      <td>1</td>\n",
              "      <td>1</td>\n",
              "      <td>3</td>\n",
              "      <td>3</td>\n",
              "      <td>3</td>\n",
              "      <td>3</td>\n",
              "      <td>3</td>\n",
              "      <td>3</td>\n",
              "      <td>1</td>\n",
              "      <td>1</td>\n",
              "      <td>1</td>\n",
              "      <td>1</td>\n",
              "      <td>1</td>\n",
              "      <td>1</td>\n",
              "      <td>3</td>\n",
              "    </tr>\n",
              "    <tr>\n",
              "      <th>1985-02-19</th>\n",
              "      <td>1</td>\n",
              "      <td>1</td>\n",
              "      <td>3</td>\n",
              "      <td>2</td>\n",
              "      <td>0</td>\n",
              "      <td>1</td>\n",
              "      <td>2</td>\n",
              "      <td>1</td>\n",
              "      <td>3</td>\n",
              "      <td>3</td>\n",
              "      <td>3</td>\n",
              "      <td>3</td>\n",
              "      <td>3</td>\n",
              "      <td>3</td>\n",
              "      <td>1</td>\n",
              "      <td>1</td>\n",
              "      <td>1</td>\n",
              "      <td>1</td>\n",
              "      <td>1</td>\n",
              "      <td>1</td>\n",
              "      <td>3</td>\n",
              "    </tr>\n",
              "    <tr>\n",
              "      <th>1985-03-06</th>\n",
              "      <td>2</td>\n",
              "      <td>1</td>\n",
              "      <td>3</td>\n",
              "      <td>2</td>\n",
              "      <td>1</td>\n",
              "      <td>2</td>\n",
              "      <td>2</td>\n",
              "      <td>1</td>\n",
              "      <td>3</td>\n",
              "      <td>3</td>\n",
              "      <td>3</td>\n",
              "      <td>3</td>\n",
              "      <td>3</td>\n",
              "      <td>3</td>\n",
              "      <td>1</td>\n",
              "      <td>1</td>\n",
              "      <td>1</td>\n",
              "      <td>1</td>\n",
              "      <td>1</td>\n",
              "      <td>1</td>\n",
              "      <td>3</td>\n",
              "    </tr>\n",
              "    <tr>\n",
              "      <th>1985-03-12</th>\n",
              "      <td>1</td>\n",
              "      <td>1</td>\n",
              "      <td>1</td>\n",
              "      <td>1</td>\n",
              "      <td>2</td>\n",
              "      <td>1</td>\n",
              "      <td>3</td>\n",
              "      <td>2</td>\n",
              "      <td>3</td>\n",
              "      <td>3</td>\n",
              "      <td>3</td>\n",
              "      <td>3</td>\n",
              "      <td>3</td>\n",
              "      <td>3</td>\n",
              "      <td>1</td>\n",
              "      <td>1</td>\n",
              "      <td>1</td>\n",
              "      <td>1</td>\n",
              "      <td>1</td>\n",
              "      <td>1</td>\n",
              "      <td>3</td>\n",
              "    </tr>\n",
              "  </tbody>\n",
              "</table>\n",
              "</div>"
            ],
            "text/plain": [
              "            lag_1  lag_2  lag_3  ...  Is_year_end  Is_year_start  Elapsed\n",
              "Date                             ...                                     \n",
              "1985-02-13      2      0      1  ...            1              1        3\n",
              "1985-02-15      1      3      2  ...            1              1        3\n",
              "1985-02-19      1      1      3  ...            1              1        3\n",
              "1985-03-06      2      1      3  ...            1              1        3\n",
              "1985-03-12      1      1      1  ...            1              1        3\n",
              "\n",
              "[5 rows x 21 columns]"
            ]
          },
          "metadata": {
            "tags": []
          },
          "execution_count": 96
        }
      ]
    },
    {
      "cell_type": "code",
      "metadata": {
        "id": "qQXP3upAaDPp",
        "colab_type": "code",
        "outputId": "ffed8924-5fac-4bd0-81cb-8a968983aaf7",
        "colab": {
          "base_uri": "https://localhost:8080/",
          "height": 178
        }
      },
      "source": [
        "model = svm.SVC(C=100, probability=True)\n",
        "%time model.fit(train_X, train_y)"
      ],
      "execution_count": 0,
      "outputs": [
        {
          "output_type": "stream",
          "text": [
            "/usr/local/lib/python3.6/dist-packages/sklearn/svm/base.py:193: FutureWarning: The default value of gamma will change from 'auto' to 'scale' in version 0.22 to account better for unscaled features. Set gamma explicitly to 'auto' or 'scale' to avoid this warning.\n",
            "  \"avoid this warning.\", FutureWarning)\n"
          ],
          "name": "stderr"
        },
        {
          "output_type": "stream",
          "text": [
            "CPU times: user 34.7 s, sys: 85.6 ms, total: 34.8 s\n",
            "Wall time: 34.8 s\n"
          ],
          "name": "stdout"
        },
        {
          "output_type": "execute_result",
          "data": {
            "text/plain": [
              "SVC(C=100, cache_size=200, class_weight=None, coef0=0.0,\n",
              "    decision_function_shape='ovr', degree=3, gamma='auto_deprecated',\n",
              "    kernel='rbf', max_iter=-1, probability=True, random_state=None,\n",
              "    shrinking=True, tol=0.001, verbose=False)"
            ]
          },
          "metadata": {
            "tags": []
          },
          "execution_count": 97
        }
      ]
    },
    {
      "cell_type": "code",
      "metadata": {
        "id": "g1awNxtYeWzy",
        "colab_type": "code",
        "outputId": "679f1c40-825b-4c9d-b843-f30fc4a52df4",
        "colab": {
          "base_uri": "https://localhost:8080/",
          "height": 34
        }
      },
      "source": [
        "train_pred = model.predict(train_X)\n",
        "accuracy_score(train_y, train_pred)\n",
        "                           "
      ],
      "execution_count": 0,
      "outputs": [
        {
          "output_type": "execute_result",
          "data": {
            "text/plain": [
              "0.6347937776509205"
            ]
          },
          "metadata": {
            "tags": []
          },
          "execution_count": 98
        }
      ]
    },
    {
      "cell_type": "code",
      "metadata": {
        "id": "F3oMqaFAeaWS",
        "colab_type": "code",
        "outputId": "24898fb9-7469-4044-ea82-74755347292d",
        "colab": {
          "base_uri": "https://localhost:8080/",
          "height": 34
        }
      },
      "source": [
        "test_pred = model.predict(test_X)\n",
        "accuracy_score(test_y, test_pred)"
      ],
      "execution_count": 0,
      "outputs": [
        {
          "output_type": "execute_result",
          "data": {
            "text/plain": [
              "0.5091324200913242"
            ]
          },
          "metadata": {
            "tags": []
          },
          "execution_count": 99
        }
      ]
    },
    {
      "cell_type": "code",
      "metadata": {
        "id": "VkVfqUi5bq1H",
        "colab_type": "code",
        "outputId": "839f29d9-7a4d-4360-c0c2-de373554f3c4",
        "colab": {
          "base_uri": "https://localhost:8080/",
          "height": 54
        }
      },
      "source": [
        "\n",
        "pred = model.predict(np.digitize(data[cat_names], bins=bins))\n",
        "pred[:18]"
      ],
      "execution_count": 0,
      "outputs": [
        {
          "output_type": "execute_result",
          "data": {
            "text/plain": [
              "array([ 1.,  1.,  1.,  1.,  1.,  1.,  1., -1.,  1.,  1.,  1.,  1.,  1.,  1.,  1.,  1.,  1.,  1.])"
            ]
          },
          "metadata": {
            "tags": []
          },
          "execution_count": 101
        }
      ]
    },
    {
      "cell_type": "code",
      "metadata": {
        "id": "dtynLfHdj94U",
        "colab_type": "code",
        "colab": {}
      },
      "source": [
        "data['Position'] = pred\n",
        "data['Strategy'] = data['Position'] * data['Returns']\n"
      ],
      "execution_count": 0,
      "outputs": []
    },
    {
      "cell_type": "code",
      "metadata": {
        "id": "yw7YeoA8kUfY",
        "colab_type": "code",
        "outputId": "84b96b88-febd-4042-899c-bfc91b2e6460",
        "colab": {
          "base_uri": "https://localhost:8080/",
          "height": 394
        }
      },
      "source": [
        "# in-sample\n",
        "data.loc[train_X.index][['Returns', 'Strategy']].cumsum().apply(np.exp).plot(figsize=(10, 6))"
      ],
      "execution_count": 0,
      "outputs": [
        {
          "output_type": "execute_result",
          "data": {
            "text/plain": [
              "<matplotlib.axes._subplots.AxesSubplot at 0x7eff115a5eb8>"
            ]
          },
          "metadata": {
            "tags": []
          },
          "execution_count": 104
        },
        {
          "output_type": "display_data",
          "data": {
            "image/png": "[encoded data removed]",
            "text/plain": [
              "<Figure size 720x432 with 1 Axes>"
            ]
          },
          "metadata": {
            "tags": []
          }
        }
      ]
    },
    {
      "cell_type": "code",
      "metadata": {
        "id": "2ezrXPXjkofj",
        "colab_type": "code",
        "outputId": "580238a9-ed6b-4cfc-ad6b-82c1d01058a1",
        "colab": {
          "base_uri": "https://localhost:8080/",
          "height": 383
        }
      },
      "source": [
        "# out-of-sample\n",
        "data.loc[test_X.index][['Returns', 'Strategy']].cumsum().apply(np.exp).plot(figsize=(10, 6))"
      ],
      "execution_count": 0,
      "outputs": [
        {
          "output_type": "execute_result",
          "data": {
            "text/plain": [
              "<matplotlib.axes._subplots.AxesSubplot at 0x7eff115a5c88>"
            ]
          },
          "metadata": {
            "tags": []
          },
          "execution_count": 105
        },
        {
          "output_type": "display_data",
          "data": {
            "image/png": "[encoded data removed]",
            "text/plain": [
              "<Figure size 720x432 with 1 Axes>"
            ]
          },
          "metadata": {
            "tags": []
          }
        }
      ]
    },
    {
      "cell_type": "code",
      "metadata": {
        "id": "-lTkFSpSb7Vp",
        "colab_type": "code",
        "outputId": "470134df-fe30-4f34-ac88-d5da26d0a9c2",
        "colab": {
          "base_uri": "https://localhost:8080/"
        }
      },
      "source": [
        "model.classes_"
      ],
      "execution_count": 0,
      "outputs": [
        {
          "output_type": "execute_result",
          "data": {
            "text/plain": [
              "array([-1.,  0.,  1.])"
            ]
          },
          "metadata": {
            "tags": []
          },
          "execution_count": 106
        }
      ]
    },
    {
      "cell_type": "code",
      "metadata": {
        "id": "LeHtcuqLb_3X",
        "colab_type": "code",
        "outputId": "30bf3fb2-ecc5-4622-99c3-458039853577",
        "colab": {
          "base_uri": "https://localhost:8080/",
          "height": 194
        }
      },
      "source": [
        "pred_proba = model.predict_proba(np.digitize(data[cat_names], bins=bins))\n",
        "pred_proba[:10]"
      ],
      "execution_count": 0,
      "outputs": [
        {
          "output_type": "execute_result",
          "data": {
            "text/plain": [
              "array([[0.461206, 0.002084, 0.53671 ],\n",
              "       [0.463711, 0.002126, 0.534163],\n",
              "       [0.462984, 0.002763, 0.534253],\n",
              "       [0.463254, 0.002188, 0.534558],\n",
              "       [0.460999, 0.002136, 0.536865],\n",
              "       [0.460962, 0.002214, 0.536824],\n",
              "       [0.463414, 0.001434, 0.535152],\n",
              "       [0.467933, 0.002417, 0.52965 ],\n",
              "       [0.46051 , 0.002059, 0.537431],\n",
              "       [0.456497, 0.00247 , 0.541033]])"
            ]
          },
          "metadata": {
            "tags": []
          },
          "execution_count": 108
        }
      ]
    },
    {
      "cell_type": "code",
      "metadata": {
        "id": "HaIaPdSPljTH",
        "colab_type": "code",
        "outputId": "62982b65-fa48-489d-c5d7-9d6541fb7121",
        "colab": {
          "base_uri": "https://localhost:8080/",
          "height": 34
        }
      },
      "source": [
        "pred_proba.max(axis=0)"
      ],
      "execution_count": 0,
      "outputs": [
        {
          "output_type": "execute_result",
          "data": {
            "text/plain": [
              "array([0.507375, 0.005125, 0.561619])"
            ]
          },
          "metadata": {
            "tags": []
          },
          "execution_count": 109
        }
      ]
    },
    {
      "cell_type": "code",
      "metadata": {
        "id": "wg8bnkkelvCB",
        "colab_type": "code",
        "outputId": "70da418e-a2cd-4d33-80fd-9a699a0acef3",
        "colab": {
          "base_uri": "https://localhost:8080/",
          "height": 54
        }
      },
      "source": [
        "t = 0.53\n",
        "pred = np.where((pred_proba[:,0] > t) & (pred_proba[:,1] < 0.1), 1, 0 )\n",
        "pred = np.where((pred_proba[:,1] < 0.1 ) & (pred_proba[:,2] > t), -1, pred )\n",
        "\n",
        "pred[:20]"
      ],
      "execution_count": 0,
      "outputs": [
        {
          "output_type": "execute_result",
          "data": {
            "text/plain": [
              "array([-1, -1, -1, -1, -1, -1, -1,  0, -1, -1, -1, -1, -1, -1, -1, -1, -1, -1, -1, -1])"
            ]
          },
          "metadata": {
            "tags": []
          },
          "execution_count": 110
        }
      ]
    },
    {
      "cell_type": "code",
      "metadata": {
        "id": "Mlu3Qg9AcLIC",
        "colab_type": "code",
        "colab": {}
      },
      "source": [
        "data['Position'] = pred\n",
        "data['Strategy'] = data['Position'] * data['Returns']"
      ],
      "execution_count": 0,
      "outputs": []
    },
    {
      "cell_type": "code",
      "metadata": {
        "id": "w_mqCWbJcqT1",
        "colab_type": "code",
        "outputId": "45ff0a5a-98c3-4dbf-9d47-0786566f4406",
        "colab": {
          "base_uri": "https://localhost:8080/",
          "height": 383
        }
      },
      "source": [
        "# in-sample\n",
        "data.loc[train_X.index][['Returns', 'Strategy']].cumsum().apply(np.exp).plot(figsize=(10, 6))"
      ],
      "execution_count": 0,
      "outputs": [
        {
          "output_type": "execute_result",
          "data": {
            "text/plain": [
              "<matplotlib.axes._subplots.AxesSubplot at 0x7eff115140f0>"
            ]
          },
          "metadata": {
            "tags": []
          },
          "execution_count": 113
        },
        {
          "output_type": "display_data",
          "data": {
            "image/png": "[encoded data removed]",
            "text/plain": [
              "<Figure size 720x432 with 1 Axes>"
            ]
          },
          "metadata": {
            "tags": []
          }
        }
      ]
    },
    {
      "cell_type": "code",
      "metadata": {
        "id": "zUI9XrsDoj36",
        "colab_type": "code",
        "outputId": "3dc1d7c4-dab9-4a82-9675-2247ffb57c73",
        "colab": {
          "base_uri": "https://localhost:8080/",
          "height": 403
        }
      },
      "source": [
        "# out-of-sample\n",
        "data.loc[test_X.index][['Returns', 'Strategy']].cumsum().apply(np.exp).plot(figsize=(10, 6))"
      ],
      "execution_count": 0,
      "outputs": [
        {
          "output_type": "execute_result",
          "data": {
            "text/plain": [
              "<matplotlib.axes._subplots.AxesSubplot at 0x7eff11301a58>"
            ]
          },
          "metadata": {
            "tags": []
          },
          "execution_count": 115
        },
        {
          "output_type": "display_data",
          "data": {
            "image/png": "[encoded data removed]",
            "text/plain": [
              "<Figure size 720x432 with 1 Axes>"
            ]
          },
          "metadata": {
            "tags": []
          }
        }
      ]
    },
    {
      "cell_type": "code",
      "metadata": {
        "id": "3-gmF8h4cuSz",
        "colab_type": "code",
        "colab": {}
      },
      "source": [
        "data['Position'] = pred\n",
        "\n",
        "data['Strategy'] = data['Position']*data['Returns']"
      ],
      "execution_count": 0,
      "outputs": []
    },
    {
      "cell_type": "code",
      "metadata": {
        "id": "_Nuf5nhbdJAW",
        "colab_type": "code",
        "outputId": "8eb18c9f-6d51-4a2d-b48c-f544261cfa18",
        "colab": {
          "base_uri": "https://localhost:8080/",
          "height": 403
        }
      },
      "source": [
        "data[['Returns', 'Strategy']].cumsum().apply(np.exp).plot(figsize=(10, 6))"
      ],
      "execution_count": 0,
      "outputs": [
        {
          "output_type": "execute_result",
          "data": {
            "text/plain": [
              "<matplotlib.axes._subplots.AxesSubplot at 0x7eff116d1630>"
            ]
          },
          "metadata": {
            "tags": []
          },
          "execution_count": 78
        },
        {
          "output_type": "display_data",
          "data": {
            "image/png": "[encoded data removed]",
            "text/plain": [
              "<Figure size 720x432 with 1 Axes>"
            ]
          },
          "metadata": {
            "tags": []
          }
        }
      ]
    }
  ]
}